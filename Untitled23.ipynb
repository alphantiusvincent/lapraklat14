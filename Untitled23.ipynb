{
  "nbformat": 4,
  "nbformat_minor": 0,
  "metadata": {
    "colab": {
      "provenance": []
    },
    "kernelspec": {
      "name": "python3",
      "display_name": "Python 3"
    },
    "language_info": {
      "name": "python"
    }
  },
  "cells": [
    {
      "cell_type": "code",
      "execution_count": null,
      "metadata": {
        "id": "o5UBEIivW_AM"
      },
      "outputs": [],
      "source": [
        "def prima(n, i=2):\n",
        "    if n == 2:\n",
        "        return True\n",
        "    elif n < 2 or n % i == 0:\n",
        "        return False\n",
        "    elif i * i > n:\n",
        "        return True\n",
        "    else:\n",
        "        return prima(n, i + 1)\n",
        "\n",
        "def cek_prima():\n",
        "    try:\n",
        "        n = int(input(\"Masukkan sebuah bilangan: \"))\n",
        "        if prima(n):\n",
        "            print(f\"Bilangan {n} adalah bilangan prima.\")\n",
        "        else:\n",
        "            print(f\"Bilangan {n} bukan bilangan prima.\")\n",
        "    except ValueError:\n",
        "        print(\"Input harus berupa bilangan bulat.\")\n",
        "\n",
        "cek_prima()"
      ]
    },
    {
      "cell_type": "code",
      "source": [
        "def palindrom(kalimat):\n",
        "    if len(kalimat) < 2:\n",
        "        return True\n",
        "    if kalimat[0] == kalimat[-1]:\n",
        "        return palindrom(kalimat[1:-1])\n",
        "    return False\n",
        "\n",
        "try:\n",
        "    # Meminta input dari pengguna\n",
        "    inputan = input(\"Masukkan sebuah kalimat: \")\n",
        "    inputan = inputan.replace(' ', '').lower()\n",
        "    if palindrom(inputan):\n",
        "        print(\"Kalimat tersebut adalah palindrom.\")\n",
        "    else:\n",
        "        print(\"Kalimat tersebut bukan palindrom.\")\n",
        "except :\n",
        "    print(\"inputan anda salah\")"
      ],
      "metadata": {
        "id": "YV7RGon7XDUy"
      },
      "execution_count": null,
      "outputs": []
    },
    {
      "cell_type": "code",
      "source": [
        "def palindrom(kalimat):\n",
        "    if len(kalimat) < 2:\n",
        "        return True\n",
        "    if kalimat[0] == kalimat[-1]:\n",
        "        return palindrom(kalimat[1:-1])\n",
        "    return False\n",
        "\n",
        "try:\n",
        "    # Meminta input dari pengguna\n",
        "    inputan = input(\"Masukkan sebuah kalimat: \")\n",
        "    inputan = inputan.replace(' ', '').lower()\n",
        "    if palindrom(inputan):\n",
        "        print(\"Kalimat tersebut adalah palindrom.\")\n",
        "    else:\n",
        "        print(\"Kalimat tersebut bukan palindrom.\")\n",
        "except :\n",
        "    print(\"inputan anda salah\")"
      ],
      "metadata": {
        "id": "fOtt9fXRkW87"
      },
      "execution_count": null,
      "outputs": []
    },
    {
      "cell_type": "code",
      "source": [
        "def jumlah_deret_ganjil(n):\n",
        "    if n <= 0:\n",
        "        return 0\n",
        "    else:\n",
        "        return (2 * n - 1) + jumlah_deret_ganjil(n - 1)\n",
        "\n",
        "try:\n",
        "    n = int(input(\"Masukkan sebuah bilangan: \"))\n",
        "    print(jumlah_deret_ganjil(n))\n",
        "except:\n",
        "    print(\"Input harus berupa bilangan bulat.\")"
      ],
      "metadata": {
        "id": "SQ2B7faukXBm"
      },
      "execution_count": null,
      "outputs": []
    },
    {
      "cell_type": "code",
      "source": [
        "def jumlah_digit(n):\n",
        "    if n == 0:\n",
        "        return 0\n",
        "    else:\n",
        "        return n % 10 + jumlah_digit(n // 10)\n",
        "try:\n",
        "    n = int(input(\"Masukkan sebuah bilangan: \"))\n",
        "    print(jumlah_digit(n))\n",
        "except:\n",
        "    print(\"Input harus berupa bilangan bulat.\")"
      ],
      "metadata": {
        "id": "28ApBuYSXDYV"
      },
      "execution_count": null,
      "outputs": []
    },
    {
      "cell_type": "code",
      "source": [],
      "metadata": {
        "id": "XiT66iwiXDci"
      },
      "execution_count": null,
      "outputs": []
    }
  ]
}